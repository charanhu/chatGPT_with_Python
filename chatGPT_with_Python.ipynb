{
  "cells": [
    {
      "cell_type": "code",
      "execution_count": 1,
      "metadata": {
        "colab": {
          "base_uri": "https://localhost:8080/"
        },
        "id": "oIYrETW3GM5X",
        "outputId": "364f832c-795e-48be-8632-918385af1827"
      },
      "outputs": [
        {
          "name": "stdout",
          "output_type": "stream",
          "text": [
            "  Building wheel for uuid (setup.py) ... \u001b[?25l\u001b[?25hdone\n"
          ]
        }
      ],
      "source": [
        "!pip install -q pyChatGPT"
      ]
    },
    {
      "cell_type": "code",
      "execution_count": 2,
      "metadata": {
        "id": "PyvKIvhqGeH4"
      },
      "outputs": [],
      "source": [
        "from pyChatGPT import ChatGPT"
      ]
    },
    {
      "cell_type": "code",
      "execution_count": 1,
      "metadata": {
        "id": "_WKkQabuGtcG"
      },
      "outputs": [],
      "source": [
        "# replace with chatgpt secret key. You will get this in insepct-->applications-->cockies\n",
        "session_token = \"\""
      ]
    },
    {
      "cell_type": "code",
      "execution_count": 4,
      "metadata": {
        "id": "JGiHUJb_HPSD"
      },
      "outputs": [],
      "source": [
        "api = ChatGPT(session_token)"
      ]
    },
    {
      "cell_type": "code",
      "execution_count": 7,
      "metadata": {
        "id": "H_tNvRiAHo4z"
      },
      "outputs": [],
      "source": [
        "def chat():\n",
        "  querry = input(\"Start Chatting: \")\n",
        "  response = api.send_message(str(querry))\n",
        "  print(response[\"message\"])"
      ]
    },
    {
      "cell_type": "code",
      "execution_count": 9,
      "metadata": {
        "colab": {
          "base_uri": "https://localhost:8080/"
        },
        "id": "eXVtqOFkIq0F",
        "outputId": "a1be2579-2b91-405a-d5f9-9a4e09f0edbf"
      },
      "outputs": [
        {
          "name": "stdout",
          "output_type": "stream",
          "text": [
            "Start Chatting: spacex\n",
            "SpaceX is an American aerospace manufacturer and space transportation services company. It was founded in 2002 by entrepreneur Elon Musk with the goal of reducing space transportation costs and enabling the colonization of Mars. Since then, the company has developed and flown many successful spacecraft, including the Falcon 1, Falcon 9, and Falcon Heavy rockets, and the Dragon spacecraft. SpaceX has also made history by becoming the first privately-funded company to send a spacecraft to the International Space Station, and the first to send an astronaut to space on a commercially-developed spacecraft. The company is currently working on a number of ambitious projects, including the development of a super heavy-lift launch vehicle called Starship, and the creation of a global satellite-based internet service called Starlink.\n"
          ]
        }
      ],
      "source": [
        "chat()"
      ]
    },
    {
      "cell_type": "code",
      "execution_count": null,
      "metadata": {
        "id": "W6obFXlLIsbO"
      },
      "outputs": [],
      "source": []
    }
  ],
  "metadata": {
    "accelerator": "GPU",
    "colab": {
      "provenance": []
    },
    "gpuClass": "standard",
    "kernelspec": {
      "display_name": "Python 3",
      "language": "python",
      "name": "python3"
    },
    "language_info": {
      "codemirror_mode": {
        "name": "ipython",
        "version": 3
      },
      "file_extension": ".py",
      "mimetype": "text/x-python",
      "name": "python",
      "nbconvert_exporter": "python",
      "pygments_lexer": "ipython3",
      "version": "3.10.7"
    },
    "vscode": {
      "interpreter": {
        "hash": "c1f682f24181e02bec5294285fb1c175cb07785bd2390f987c80770a76d37385"
      }
    }
  },
  "nbformat": 4,
  "nbformat_minor": 0
}
